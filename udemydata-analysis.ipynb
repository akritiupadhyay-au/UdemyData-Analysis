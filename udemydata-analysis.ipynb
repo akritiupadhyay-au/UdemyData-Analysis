{
 "cells": [
  {
   "cell_type": "code",
   "execution_count": 2,
   "id": "bdbcd30e",
   "metadata": {
    "execution": {
     "iopub.execute_input": "2023-02-27T08:00:19.021849Z",
     "iopub.status.busy": "2023-02-27T08:00:19.021195Z",
     "iopub.status.idle": "2023-02-27T08:00:20.074393Z",
     "shell.execute_reply": "2023-02-27T08:00:20.073221Z"
    },
    "papermill": {
     "duration": 1.063925,
     "end_time": "2023-02-27T08:00:20.077472",
     "exception": false,
     "start_time": "2023-02-27T08:00:19.013547",
     "status": "completed"
    },
    "tags": []
   },
   "outputs": [],
   "source": [
    "import numpy as np\n",
    "import pandas as pd\n",
    "import seaborn as sns\n",
    "import matplotlib.pyplot as plt"
   ]
  },
  {
   "cell_type": "code",
   "execution_count": 3,
   "id": "1411c0af",
   "metadata": {
    "execution": {
     "iopub.execute_input": "2023-02-27T08:00:20.092663Z",
     "iopub.status.busy": "2023-02-27T08:00:20.092003Z",
     "iopub.status.idle": "2023-02-27T08:00:20.922768Z",
     "shell.execute_reply": "2023-02-27T08:00:20.921586Z"
    },
    "papermill": {
     "duration": 0.841477,
     "end_time": "2023-02-27T08:00:20.925404",
     "exception": false,
     "start_time": "2023-02-27T08:00:20.083927",
     "status": "completed"
    },
    "tags": []
   },
   "outputs": [
    {
     "data": {
      "text/html": [
       "<div>\n",
       "<style scoped>\n",
       "    .dataframe tbody tr th:only-of-type {\n",
       "        vertical-align: middle;\n",
       "    }\n",
       "\n",
       "    .dataframe tbody tr th {\n",
       "        vertical-align: top;\n",
       "    }\n",
       "\n",
       "    .dataframe thead th {\n",
       "        text-align: right;\n",
       "    }\n",
       "</style>\n",
       "<table border=\"1\" class=\"dataframe\">\n",
       "  <thead>\n",
       "    <tr style=\"text-align: right;\">\n",
       "      <th></th>\n",
       "      <th>id</th>\n",
       "      <th>title</th>\n",
       "      <th>url</th>\n",
       "      <th>rating</th>\n",
       "      <th>num_reviews</th>\n",
       "      <th>num_published_lectures</th>\n",
       "      <th>created</th>\n",
       "      <th>last_update_date</th>\n",
       "      <th>duration</th>\n",
       "      <th>instructors_id</th>\n",
       "      <th>image</th>\n",
       "    </tr>\n",
       "  </thead>\n",
       "  <tbody>\n",
       "    <tr>\n",
       "      <th>0</th>\n",
       "      <td>567828</td>\n",
       "      <td>The Complete Python Bootcamp From Zero to Hero...</td>\n",
       "      <td>/course/complete-python-bootcamp/</td>\n",
       "      <td>4.592782</td>\n",
       "      <td>452973</td>\n",
       "      <td>155</td>\n",
       "      <td>2015-07-29T00:12:23Z</td>\n",
       "      <td>2021-03-14</td>\n",
       "      <td>22 total hours</td>\n",
       "      <td>9685726</td>\n",
       "      <td>https://img-c.udemycdn.com/course/750x422/5678...</td>\n",
       "    </tr>\n",
       "    <tr>\n",
       "      <th>1</th>\n",
       "      <td>1565838</td>\n",
       "      <td>The Complete 2023 Web Development Bootcamp</td>\n",
       "      <td>/course/the-complete-web-development-bootcamp/</td>\n",
       "      <td>4.667258</td>\n",
       "      <td>263152</td>\n",
       "      <td>490</td>\n",
       "      <td>2018-02-22T12:02:33Z</td>\n",
       "      <td>2023-01-20</td>\n",
       "      <td>65.5 total hours</td>\n",
       "      <td>31334738</td>\n",
       "      <td>https://img-c.udemycdn.com/course/750x422/1565...</td>\n",
       "    </tr>\n",
       "    <tr>\n",
       "      <th>2</th>\n",
       "      <td>625204</td>\n",
       "      <td>The Web Developer Bootcamp 2023</td>\n",
       "      <td>/course/the-web-developer-bootcamp/</td>\n",
       "      <td>4.696147</td>\n",
       "      <td>254711</td>\n",
       "      <td>616</td>\n",
       "      <td>2015-09-28T21:32:19Z</td>\n",
       "      <td>2023-02-12</td>\n",
       "      <td>64 total hours</td>\n",
       "      <td>4466306</td>\n",
       "      <td>https://img-c.udemycdn.com/course/750x422/6252...</td>\n",
       "    </tr>\n",
       "    <tr>\n",
       "      <th>3</th>\n",
       "      <td>756150</td>\n",
       "      <td>Angular - The Complete Guide (2023 Edition)</td>\n",
       "      <td>/course/the-complete-guide-to-angular-2/</td>\n",
       "      <td>4.592692</td>\n",
       "      <td>180257</td>\n",
       "      <td>472</td>\n",
       "      <td>2016-02-08T17:02:55Z</td>\n",
       "      <td>2023-02-06</td>\n",
       "      <td>34.5 total hours</td>\n",
       "      <td>13952972</td>\n",
       "      <td>https://img-c.udemycdn.com/course/750x422/7561...</td>\n",
       "    </tr>\n",
       "    <tr>\n",
       "      <th>4</th>\n",
       "      <td>2776760</td>\n",
       "      <td>100 Days of Code: The Complete Python Pro Boot...</td>\n",
       "      <td>/course/100-days-of-code/</td>\n",
       "      <td>4.695252</td>\n",
       "      <td>177568</td>\n",
       "      <td>676</td>\n",
       "      <td>2020-01-24T10:47:21Z</td>\n",
       "      <td>2022-11-30</td>\n",
       "      <td>64 total hours</td>\n",
       "      <td>31334738</td>\n",
       "      <td>https://img-c.udemycdn.com/course/750x422/2776...</td>\n",
       "    </tr>\n",
       "  </tbody>\n",
       "</table>\n",
       "</div>"
      ],
      "text/plain": [
       "        id                                              title  \\\n",
       "0   567828  The Complete Python Bootcamp From Zero to Hero...   \n",
       "1  1565838         The Complete 2023 Web Development Bootcamp   \n",
       "2   625204                    The Web Developer Bootcamp 2023   \n",
       "3   756150        Angular - The Complete Guide (2023 Edition)   \n",
       "4  2776760  100 Days of Code: The Complete Python Pro Boot...   \n",
       "\n",
       "                                              url    rating  num_reviews  \\\n",
       "0               /course/complete-python-bootcamp/  4.592782       452973   \n",
       "1  /course/the-complete-web-development-bootcamp/  4.667258       263152   \n",
       "2             /course/the-web-developer-bootcamp/  4.696147       254711   \n",
       "3        /course/the-complete-guide-to-angular-2/  4.592692       180257   \n",
       "4                       /course/100-days-of-code/  4.695252       177568   \n",
       "\n",
       "   num_published_lectures               created last_update_date  \\\n",
       "0                     155  2015-07-29T00:12:23Z       2021-03-14   \n",
       "1                     490  2018-02-22T12:02:33Z       2023-01-20   \n",
       "2                     616  2015-09-28T21:32:19Z       2023-02-12   \n",
       "3                     472  2016-02-08T17:02:55Z       2023-02-06   \n",
       "4                     676  2020-01-24T10:47:21Z       2022-11-30   \n",
       "\n",
       "           duration  instructors_id  \\\n",
       "0    22 total hours         9685726   \n",
       "1  65.5 total hours        31334738   \n",
       "2    64 total hours         4466306   \n",
       "3  34.5 total hours        13952972   \n",
       "4    64 total hours        31334738   \n",
       "\n",
       "                                               image  \n",
       "0  https://img-c.udemycdn.com/course/750x422/5678...  \n",
       "1  https://img-c.udemycdn.com/course/750x422/1565...  \n",
       "2  https://img-c.udemycdn.com/course/750x422/6252...  \n",
       "3  https://img-c.udemycdn.com/course/750x422/7561...  \n",
       "4  https://img-c.udemycdn.com/course/750x422/2776...  "
      ]
     },
     "execution_count": 3,
     "metadata": {},
     "output_type": "execute_result"
    }
   ],
   "source": [
    "courses = pd.read_csv(\"/kaggle/input/udemy-courses-data-2023/courses.csv\")\n",
    "courses.head()"
   ]
  },
  {
   "cell_type": "code",
   "execution_count": 4,
   "id": "68402e01",
   "metadata": {
    "execution": {
     "iopub.execute_input": "2023-02-27T08:00:20.940999Z",
     "iopub.status.busy": "2023-02-27T08:00:20.940061Z",
     "iopub.status.idle": "2023-02-27T08:00:20.976915Z",
     "shell.execute_reply": "2023-02-27T08:00:20.975593Z"
    },
    "papermill": {
     "duration": 0.047407,
     "end_time": "2023-02-27T08:00:20.979644",
     "exception": false,
     "start_time": "2023-02-27T08:00:20.932237",
     "status": "completed"
    },
    "tags": []
   },
   "outputs": [
    {
     "data": {
      "text/plain": [
       "id                         0\n",
       "title                      0\n",
       "url                        0\n",
       "rating                     0\n",
       "num_reviews                0\n",
       "num_published_lectures     0\n",
       "created                    0\n",
       "last_update_date          78\n",
       "duration                   0\n",
       "instructors_id             0\n",
       "image                      0\n",
       "dtype: int64"
      ]
     },
     "execution_count": 4,
     "metadata": {},
     "output_type": "execute_result"
    }
   ],
   "source": [
    "courses.isnull().sum()"
   ]
  },
  {
   "cell_type": "code",
   "execution_count": 5,
   "id": "4d43d2ff",
   "metadata": {
    "execution": {
     "iopub.execute_input": "2023-02-27T08:00:20.994987Z",
     "iopub.status.busy": "2023-02-27T08:00:20.994575Z",
     "iopub.status.idle": "2023-02-27T08:00:21.009881Z",
     "shell.execute_reply": "2023-02-27T08:00:21.008673Z"
    },
    "papermill": {
     "duration": 0.026138,
     "end_time": "2023-02-27T08:00:21.012717",
     "exception": false,
     "start_time": "2023-02-27T08:00:20.986579",
     "status": "completed"
    },
    "tags": []
   },
   "outputs": [],
   "source": [
    "courses.last_update_date = courses.last_update_date.fillna('mode')"
   ]
  },
  {
   "cell_type": "code",
   "execution_count": 6,
   "id": "92975d65",
   "metadata": {
    "execution": {
     "iopub.execute_input": "2023-02-27T08:00:21.029334Z",
     "iopub.status.busy": "2023-02-27T08:00:21.027358Z",
     "iopub.status.idle": "2023-02-27T08:00:21.063626Z",
     "shell.execute_reply": "2023-02-27T08:00:21.062401Z"
    },
    "papermill": {
     "duration": 0.047015,
     "end_time": "2023-02-27T08:00:21.066411",
     "exception": false,
     "start_time": "2023-02-27T08:00:21.019396",
     "status": "completed"
    },
    "tags": []
   },
   "outputs": [
    {
     "data": {
      "text/plain": [
       "id                        0\n",
       "title                     0\n",
       "url                       0\n",
       "rating                    0\n",
       "num_reviews               0\n",
       "num_published_lectures    0\n",
       "created                   0\n",
       "last_update_date          0\n",
       "duration                  0\n",
       "instructors_id            0\n",
       "image                     0\n",
       "dtype: int64"
      ]
     },
     "execution_count": 6,
     "metadata": {},
     "output_type": "execute_result"
    }
   ],
   "source": [
    "courses.isnull().sum()"
   ]
  },
  {
   "cell_type": "code",
   "execution_count": 7,
   "id": "d70ad641",
   "metadata": {
    "execution": {
     "iopub.execute_input": "2023-02-27T08:00:21.082355Z",
     "iopub.status.busy": "2023-02-27T08:00:21.081934Z",
     "iopub.status.idle": "2023-02-27T08:00:21.456182Z",
     "shell.execute_reply": "2023-02-27T08:00:21.454964Z"
    },
    "papermill": {
     "duration": 0.384901,
     "end_time": "2023-02-27T08:00:21.458618",
     "exception": false,
     "start_time": "2023-02-27T08:00:21.073717",
     "status": "completed"
    },
    "tags": []
   },
   "outputs": [
    {
     "data": {
      "text/html": [
       "<div>\n",
       "<style scoped>\n",
       "    .dataframe tbody tr th:only-of-type {\n",
       "        vertical-align: middle;\n",
       "    }\n",
       "\n",
       "    .dataframe tbody tr th {\n",
       "        vertical-align: top;\n",
       "    }\n",
       "\n",
       "    .dataframe thead th {\n",
       "        text-align: right;\n",
       "    }\n",
       "</style>\n",
       "<table border=\"1\" class=\"dataframe\">\n",
       "  <thead>\n",
       "    <tr style=\"text-align: right;\">\n",
       "      <th></th>\n",
       "      <th>_class</th>\n",
       "      <th>id</th>\n",
       "      <th>title</th>\n",
       "      <th>name</th>\n",
       "      <th>display_name</th>\n",
       "      <th>job_title</th>\n",
       "      <th>image_50x50</th>\n",
       "      <th>image_100x100</th>\n",
       "      <th>initials</th>\n",
       "      <th>url</th>\n",
       "    </tr>\n",
       "  </thead>\n",
       "  <tbody>\n",
       "    <tr>\n",
       "      <th>0</th>\n",
       "      <td>user</td>\n",
       "      <td>9685726</td>\n",
       "      <td>Jose Portilla</td>\n",
       "      <td>Jose</td>\n",
       "      <td>Jose Portilla</td>\n",
       "      <td>Head of Data Science at Pierian Training</td>\n",
       "      <td>https://img-c.udemycdn.com/user/50x50/9685726_...</td>\n",
       "      <td>https://img-c.udemycdn.com/user/100x100/968572...</td>\n",
       "      <td>JP</td>\n",
       "      <td>/user/joseportilla/</td>\n",
       "    </tr>\n",
       "    <tr>\n",
       "      <th>1</th>\n",
       "      <td>user</td>\n",
       "      <td>31334738</td>\n",
       "      <td>Dr. Angela Yu</td>\n",
       "      <td>Dr. Angela</td>\n",
       "      <td>Dr. Angela Yu</td>\n",
       "      <td>Developer and Lead Instructor</td>\n",
       "      <td>https://img-c.udemycdn.com/user/50x50/31334738...</td>\n",
       "      <td>https://img-c.udemycdn.com/user/100x100/313347...</td>\n",
       "      <td>DY</td>\n",
       "      <td>/user/4b4368a3-b5c8-4529-aa65-2056ec31f37e/</td>\n",
       "    </tr>\n",
       "    <tr>\n",
       "      <th>2</th>\n",
       "      <td>user</td>\n",
       "      <td>4466306</td>\n",
       "      <td>Colt Steele</td>\n",
       "      <td>Colt</td>\n",
       "      <td>Colt Steele</td>\n",
       "      <td>Developer and Bootcamp Instructor</td>\n",
       "      <td>https://img-b.udemycdn.com/user/50x50/4466306_...</td>\n",
       "      <td>https://img-b.udemycdn.com/user/100x100/446630...</td>\n",
       "      <td>CS</td>\n",
       "      <td>/user/coltsteele/</td>\n",
       "    </tr>\n",
       "    <tr>\n",
       "      <th>3</th>\n",
       "      <td>user</td>\n",
       "      <td>13952972</td>\n",
       "      <td>Maximilian Schwarzmüller</td>\n",
       "      <td>Maximilian</td>\n",
       "      <td>Maximilian Schwarzmüller</td>\n",
       "      <td>AWS certified, Professional Web Developer and ...</td>\n",
       "      <td>https://img-b.udemycdn.com/user/50x50/13952972...</td>\n",
       "      <td>https://img-b.udemycdn.com/user/100x100/139529...</td>\n",
       "      <td>MS</td>\n",
       "      <td>/user/maximilian-schwarzmuller/</td>\n",
       "    </tr>\n",
       "    <tr>\n",
       "      <th>4</th>\n",
       "      <td>user</td>\n",
       "      <td>599932</td>\n",
       "      <td>Tim Buchalka</td>\n",
       "      <td>Tim</td>\n",
       "      <td>Tim Buchalka</td>\n",
       "      <td>Java Python Android and C# Expert Developer - ...</td>\n",
       "      <td>https://img-c.udemycdn.com/user/50x50/599932_7...</td>\n",
       "      <td>https://img-c.udemycdn.com/user/100x100/599932...</td>\n",
       "      <td>TB</td>\n",
       "      <td>/user/timbuchalka/</td>\n",
       "    </tr>\n",
       "  </tbody>\n",
       "</table>\n",
       "</div>"
      ],
      "text/plain": [
       "  _class        id                     title        name  \\\n",
       "0   user   9685726             Jose Portilla        Jose   \n",
       "1   user  31334738             Dr. Angela Yu  Dr. Angela   \n",
       "2   user   4466306               Colt Steele        Colt   \n",
       "3   user  13952972  Maximilian Schwarzmüller  Maximilian   \n",
       "4   user    599932              Tim Buchalka         Tim   \n",
       "\n",
       "               display_name  \\\n",
       "0             Jose Portilla   \n",
       "1             Dr. Angela Yu   \n",
       "2               Colt Steele   \n",
       "3  Maximilian Schwarzmüller   \n",
       "4              Tim Buchalka   \n",
       "\n",
       "                                           job_title  \\\n",
       "0           Head of Data Science at Pierian Training   \n",
       "1                      Developer and Lead Instructor   \n",
       "2                  Developer and Bootcamp Instructor   \n",
       "3  AWS certified, Professional Web Developer and ...   \n",
       "4  Java Python Android and C# Expert Developer - ...   \n",
       "\n",
       "                                         image_50x50  \\\n",
       "0  https://img-c.udemycdn.com/user/50x50/9685726_...   \n",
       "1  https://img-c.udemycdn.com/user/50x50/31334738...   \n",
       "2  https://img-b.udemycdn.com/user/50x50/4466306_...   \n",
       "3  https://img-b.udemycdn.com/user/50x50/13952972...   \n",
       "4  https://img-c.udemycdn.com/user/50x50/599932_7...   \n",
       "\n",
       "                                       image_100x100 initials  \\\n",
       "0  https://img-c.udemycdn.com/user/100x100/968572...       JP   \n",
       "1  https://img-c.udemycdn.com/user/100x100/313347...       DY   \n",
       "2  https://img-b.udemycdn.com/user/100x100/446630...       CS   \n",
       "3  https://img-b.udemycdn.com/user/100x100/139529...       MS   \n",
       "4  https://img-c.udemycdn.com/user/100x100/599932...       TB   \n",
       "\n",
       "                                           url  \n",
       "0                          /user/joseportilla/  \n",
       "1  /user/4b4368a3-b5c8-4529-aa65-2056ec31f37e/  \n",
       "2                            /user/coltsteele/  \n",
       "3              /user/maximilian-schwarzmuller/  \n",
       "4                           /user/timbuchalka/  "
      ]
     },
     "execution_count": 7,
     "metadata": {},
     "output_type": "execute_result"
    }
   ],
   "source": [
    "instructor = pd.read_csv(\"/kaggle/input/udemy-courses-data-2023/instructors.csv\")\n",
    "instructor.head()"
   ]
  },
  {
   "cell_type": "code",
   "execution_count": 8,
   "id": "efb9209b",
   "metadata": {
    "execution": {
     "iopub.execute_input": "2023-02-27T08:00:21.475317Z",
     "iopub.status.busy": "2023-02-27T08:00:21.474885Z",
     "iopub.status.idle": "2023-02-27T08:00:21.498415Z",
     "shell.execute_reply": "2023-02-27T08:00:21.497244Z"
    },
    "papermill": {
     "duration": 0.034842,
     "end_time": "2023-02-27T08:00:21.500818",
     "exception": false,
     "start_time": "2023-02-27T08:00:21.465976",
     "status": "completed"
    },
    "tags": []
   },
   "outputs": [
    {
     "data": {
      "text/plain": [
       "_class             0\n",
       "id                 0\n",
       "title              0\n",
       "name               1\n",
       "display_name       0\n",
       "job_title         78\n",
       "image_50x50        0\n",
       "image_100x100      0\n",
       "initials         620\n",
       "url               60\n",
       "dtype: int64"
      ]
     },
     "execution_count": 8,
     "metadata": {},
     "output_type": "execute_result"
    }
   ],
   "source": [
    "instructor.isnull().sum()"
   ]
  },
  {
   "cell_type": "code",
   "execution_count": 9,
   "id": "0f9c9aa6",
   "metadata": {
    "execution": {
     "iopub.execute_input": "2023-02-27T08:00:21.518084Z",
     "iopub.status.busy": "2023-02-27T08:00:21.516804Z",
     "iopub.status.idle": "2023-02-27T08:00:21.549939Z",
     "shell.execute_reply": "2023-02-27T08:00:21.548559Z"
    },
    "papermill": {
     "duration": 0.044736,
     "end_time": "2023-02-27T08:00:21.552836",
     "exception": false,
     "start_time": "2023-02-27T08:00:21.508100",
     "status": "completed"
    },
    "tags": []
   },
   "outputs": [],
   "source": [
    "for col in instructor.columns:\n",
    "    if instructor[col].dtypes == object:\n",
    "        instructor[col] = instructor[col].fillna('mode')"
   ]
  },
  {
   "cell_type": "code",
   "execution_count": 10,
   "id": "fb741ff0",
   "metadata": {
    "execution": {
     "iopub.execute_input": "2023-02-27T08:00:21.569700Z",
     "iopub.status.busy": "2023-02-27T08:00:21.569266Z",
     "iopub.status.idle": "2023-02-27T08:00:21.592690Z",
     "shell.execute_reply": "2023-02-27T08:00:21.591659Z"
    },
    "papermill": {
     "duration": 0.035074,
     "end_time": "2023-02-27T08:00:21.595433",
     "exception": false,
     "start_time": "2023-02-27T08:00:21.560359",
     "status": "completed"
    },
    "tags": []
   },
   "outputs": [
    {
     "data": {
      "text/plain": [
       "_class           0\n",
       "id               0\n",
       "title            0\n",
       "name             0\n",
       "display_name     0\n",
       "job_title        0\n",
       "image_50x50      0\n",
       "image_100x100    0\n",
       "initials         0\n",
       "url              0\n",
       "dtype: int64"
      ]
     },
     "execution_count": 10,
     "metadata": {},
     "output_type": "execute_result"
    }
   ],
   "source": [
    "instructor.isnull().sum()"
   ]
  },
  {
   "cell_type": "code",
   "execution_count": 11,
   "id": "580aac72",
   "metadata": {
    "execution": {
     "iopub.execute_input": "2023-02-27T08:00:21.613298Z",
     "iopub.status.busy": "2023-02-27T08:00:21.612428Z",
     "iopub.status.idle": "2023-02-27T08:00:21.662174Z",
     "shell.execute_reply": "2023-02-27T08:00:21.659932Z"
    },
    "papermill": {
     "duration": 0.062732,
     "end_time": "2023-02-27T08:00:21.665831",
     "exception": false,
     "start_time": "2023-02-27T08:00:21.603099",
     "status": "completed"
    },
    "tags": []
   },
   "outputs": [
    {
     "name": "stdout",
     "output_type": "stream",
     "text": [
      "<class 'pandas.core.frame.DataFrame'>\n",
      "RangeIndex: 83104 entries, 0 to 83103\n",
      "Data columns (total 11 columns):\n",
      " #   Column                  Non-Null Count  Dtype  \n",
      "---  ------                  --------------  -----  \n",
      " 0   id                      83104 non-null  int64  \n",
      " 1   title                   83104 non-null  object \n",
      " 2   url                     83104 non-null  object \n",
      " 3   rating                  83104 non-null  float64\n",
      " 4   num_reviews             83104 non-null  int64  \n",
      " 5   num_published_lectures  83104 non-null  int64  \n",
      " 6   created                 83104 non-null  object \n",
      " 7   last_update_date        83104 non-null  object \n",
      " 8   duration                83104 non-null  object \n",
      " 9   instructors_id          83104 non-null  int64  \n",
      " 10  image                   83104 non-null  object \n",
      "dtypes: float64(1), int64(4), object(6)\n",
      "memory usage: 7.0+ MB\n"
     ]
    }
   ],
   "source": [
    "courses.info()"
   ]
  },
  {
   "cell_type": "code",
   "execution_count": 12,
   "id": "170cacc2",
   "metadata": {
    "execution": {
     "iopub.execute_input": "2023-02-27T08:00:21.683992Z",
     "iopub.status.busy": "2023-02-27T08:00:21.682988Z",
     "iopub.status.idle": "2023-02-27T08:00:21.711433Z",
     "shell.execute_reply": "2023-02-27T08:00:21.709831Z"
    },
    "papermill": {
     "duration": 0.041473,
     "end_time": "2023-02-27T08:00:21.715145",
     "exception": false,
     "start_time": "2023-02-27T08:00:21.673672",
     "status": "completed"
    },
    "tags": []
   },
   "outputs": [
    {
     "name": "stdout",
     "output_type": "stream",
     "text": [
      "<class 'pandas.core.frame.DataFrame'>\n",
      "RangeIndex: 32233 entries, 0 to 32232\n",
      "Data columns (total 10 columns):\n",
      " #   Column         Non-Null Count  Dtype \n",
      "---  ------         --------------  ----- \n",
      " 0   _class         32233 non-null  object\n",
      " 1   id             32233 non-null  int64 \n",
      " 2   title          32233 non-null  object\n",
      " 3   name           32233 non-null  object\n",
      " 4   display_name   32233 non-null  object\n",
      " 5   job_title      32233 non-null  object\n",
      " 6   image_50x50    32233 non-null  object\n",
      " 7   image_100x100  32233 non-null  object\n",
      " 8   initials       32233 non-null  object\n",
      " 9   url            32233 non-null  object\n",
      "dtypes: int64(1), object(9)\n",
      "memory usage: 2.5+ MB\n"
     ]
    }
   ],
   "source": [
    "instructor.info()"
   ]
  },
  {
   "cell_type": "code",
   "execution_count": 13,
   "id": "34a2785f",
   "metadata": {
    "execution": {
     "iopub.execute_input": "2023-02-27T08:00:21.733132Z",
     "iopub.status.busy": "2023-02-27T08:00:21.732331Z",
     "iopub.status.idle": "2023-02-27T08:00:21.739934Z",
     "shell.execute_reply": "2023-02-27T08:00:21.738762Z"
    },
    "papermill": {
     "duration": 0.019143,
     "end_time": "2023-02-27T08:00:21.742349",
     "exception": false,
     "start_time": "2023-02-27T08:00:21.723206",
     "status": "completed"
    },
    "tags": []
   },
   "outputs": [
    {
     "data": {
      "text/plain": [
       "((83104, 11), (32233, 10))"
      ]
     },
     "execution_count": 13,
     "metadata": {},
     "output_type": "execute_result"
    }
   ],
   "source": [
    "courses.shape,instructor.shape"
   ]
  },
  {
   "cell_type": "code",
   "execution_count": 14,
   "id": "b7e4c0af",
   "metadata": {
    "execution": {
     "iopub.execute_input": "2023-02-27T08:00:21.759879Z",
     "iopub.status.busy": "2023-02-27T08:00:21.759041Z",
     "iopub.status.idle": "2023-02-27T08:00:21.958060Z",
     "shell.execute_reply": "2023-02-27T08:00:21.956692Z"
    },
    "papermill": {
     "duration": 0.21067,
     "end_time": "2023-02-27T08:00:21.960613",
     "exception": false,
     "start_time": "2023-02-27T08:00:21.749943",
     "status": "completed"
    },
    "tags": []
   },
   "outputs": [
    {
     "name": "stderr",
     "output_type": "stream",
     "text": [
      "/opt/conda/lib/python3.7/site-packages/ipykernel_launcher.py:1: FutureWarning: Indexing with multiple keys (implicitly converted to a tuple of keys) will be deprecated, use a list instead.\n",
      "  \"\"\"Entry point for launching an IPython kernel.\n"
     ]
    }
   ],
   "source": [
    "popular_courses = courses.groupby('title')['num_reviews','rating'].max().sort_values(by = 'num_reviews',ascending = False)"
   ]
  },
  {
   "cell_type": "code",
   "execution_count": 15,
   "id": "79280545",
   "metadata": {
    "execution": {
     "iopub.execute_input": "2023-02-27T08:00:21.978685Z",
     "iopub.status.busy": "2023-02-27T08:00:21.978266Z",
     "iopub.status.idle": "2023-02-27T08:00:21.987049Z",
     "shell.execute_reply": "2023-02-27T08:00:21.985433Z"
    },
    "papermill": {
     "duration": 0.021011,
     "end_time": "2023-02-27T08:00:21.989976",
     "exception": false,
     "start_time": "2023-02-27T08:00:21.968965",
     "status": "completed"
    },
    "tags": []
   },
   "outputs": [
    {
     "name": "stdout",
     "output_type": "stream",
     "text": [
      "Following are the most popular courses on Udemy because of high rating and reviews : \n",
      "\n",
      "                                                     num_reviews    rating\n",
      "title                                                                    \n",
      "The Complete Python Bootcamp From Zero to Hero ...       452973  4.592782\n",
      "Microsoft Excel - Excel from Beginner to Advanced        357442  4.659531\n",
      "The Complete 2023 Web Development Bootcamp               263152  4.667258\n",
      "The Web Developer Bootcamp 2023                          254711  4.696147\n"
     ]
    }
   ],
   "source": [
    "print(\"Following are the most popular courses on Udemy because of high rating and reviews : \\n\\n\",popular_courses.iloc[:4,:])"
   ]
  },
  {
   "cell_type": "code",
   "execution_count": 16,
   "id": "b5ab00d4",
   "metadata": {
    "execution": {
     "iopub.execute_input": "2023-02-27T08:00:22.007498Z",
     "iopub.status.busy": "2023-02-27T08:00:22.007050Z",
     "iopub.status.idle": "2023-02-27T08:00:22.119298Z",
     "shell.execute_reply": "2023-02-27T08:00:22.117980Z"
    },
    "papermill": {
     "duration": 0.124106,
     "end_time": "2023-02-27T08:00:22.122066",
     "exception": false,
     "start_time": "2023-02-27T08:00:21.997960",
     "status": "completed"
    },
    "tags": []
   },
   "outputs": [],
   "source": [
    "joined_df = instructor.join(courses.set_index('instructors_id'),on = 'id',lsuffix = '_instructor',rsuffix = '_courses')"
   ]
  },
  {
   "cell_type": "code",
   "execution_count": 17,
   "id": "e2442d56",
   "metadata": {
    "execution": {
     "iopub.execute_input": "2023-02-27T08:00:22.139751Z",
     "iopub.status.busy": "2023-02-27T08:00:22.139321Z",
     "iopub.status.idle": "2023-02-27T08:00:22.233391Z",
     "shell.execute_reply": "2023-02-27T08:00:22.232113Z"
    },
    "papermill": {
     "duration": 0.105691,
     "end_time": "2023-02-27T08:00:22.235774",
     "exception": false,
     "start_time": "2023-02-27T08:00:22.130083",
     "status": "completed"
    },
    "tags": []
   },
   "outputs": [
    {
     "data": {
      "text/plain": [
       "id                        0\n",
       "_class                    0\n",
       "id_instructor             0\n",
       "title_instructor          0\n",
       "name                      0\n",
       "display_name              0\n",
       "job_title                 0\n",
       "image_50x50               0\n",
       "image_100x100             0\n",
       "initials                  0\n",
       "url_instructor            0\n",
       "id_courses                0\n",
       "title_courses             0\n",
       "url_courses               0\n",
       "rating                    0\n",
       "num_reviews               0\n",
       "num_published_lectures    0\n",
       "created                   0\n",
       "last_update_date          0\n",
       "duration                  0\n",
       "image                     0\n",
       "dtype: int64"
      ]
     },
     "execution_count": 17,
     "metadata": {},
     "output_type": "execute_result"
    }
   ],
   "source": [
    "joined_df.isnull().sum()"
   ]
  },
  {
   "cell_type": "code",
   "execution_count": 18,
   "id": "62c30c55",
   "metadata": {
    "execution": {
     "iopub.execute_input": "2023-02-27T08:00:22.253045Z",
     "iopub.status.busy": "2023-02-27T08:00:22.252644Z",
     "iopub.status.idle": "2023-02-27T08:00:22.278898Z",
     "shell.execute_reply": "2023-02-27T08:00:22.277710Z"
    },
    "papermill": {
     "duration": 0.037858,
     "end_time": "2023-02-27T08:00:22.281431",
     "exception": false,
     "start_time": "2023-02-27T08:00:22.243573",
     "status": "completed"
    },
    "tags": []
   },
   "outputs": [
    {
     "data": {
      "text/html": [
       "<div>\n",
       "<style scoped>\n",
       "    .dataframe tbody tr th:only-of-type {\n",
       "        vertical-align: middle;\n",
       "    }\n",
       "\n",
       "    .dataframe tbody tr th {\n",
       "        vertical-align: top;\n",
       "    }\n",
       "\n",
       "    .dataframe thead th {\n",
       "        text-align: right;\n",
       "    }\n",
       "</style>\n",
       "<table border=\"1\" class=\"dataframe\">\n",
       "  <thead>\n",
       "    <tr style=\"text-align: right;\">\n",
       "      <th></th>\n",
       "      <th>id</th>\n",
       "      <th>_class</th>\n",
       "      <th>id_instructor</th>\n",
       "      <th>title_instructor</th>\n",
       "      <th>name</th>\n",
       "      <th>display_name</th>\n",
       "      <th>job_title</th>\n",
       "      <th>image_50x50</th>\n",
       "      <th>image_100x100</th>\n",
       "      <th>initials</th>\n",
       "      <th>...</th>\n",
       "      <th>id_courses</th>\n",
       "      <th>title_courses</th>\n",
       "      <th>url_courses</th>\n",
       "      <th>rating</th>\n",
       "      <th>num_reviews</th>\n",
       "      <th>num_published_lectures</th>\n",
       "      <th>created</th>\n",
       "      <th>last_update_date</th>\n",
       "      <th>duration</th>\n",
       "      <th>image</th>\n",
       "    </tr>\n",
       "  </thead>\n",
       "  <tbody>\n",
       "    <tr>\n",
       "      <th>0</th>\n",
       "      <td>9685726</td>\n",
       "      <td>user</td>\n",
       "      <td>9685726</td>\n",
       "      <td>Jose Portilla</td>\n",
       "      <td>Jose</td>\n",
       "      <td>Jose Portilla</td>\n",
       "      <td>Head of Data Science at Pierian Training</td>\n",
       "      <td>https://img-c.udemycdn.com/user/50x50/9685726_...</td>\n",
       "      <td>https://img-c.udemycdn.com/user/100x100/968572...</td>\n",
       "      <td>JP</td>\n",
       "      <td>...</td>\n",
       "      <td>567828</td>\n",
       "      <td>The Complete Python Bootcamp From Zero to Hero...</td>\n",
       "      <td>/course/complete-python-bootcamp/</td>\n",
       "      <td>4.592782</td>\n",
       "      <td>452973</td>\n",
       "      <td>155</td>\n",
       "      <td>2015-07-29T00:12:23Z</td>\n",
       "      <td>2021-03-14</td>\n",
       "      <td>22 total hours</td>\n",
       "      <td>https://img-c.udemycdn.com/course/750x422/5678...</td>\n",
       "    </tr>\n",
       "    <tr>\n",
       "      <th>0</th>\n",
       "      <td>9685726</td>\n",
       "      <td>user</td>\n",
       "      <td>9685726</td>\n",
       "      <td>Jose Portilla</td>\n",
       "      <td>Jose</td>\n",
       "      <td>Jose Portilla</td>\n",
       "      <td>Head of Data Science at Pierian Training</td>\n",
       "      <td>https://img-c.udemycdn.com/user/50x50/9685726_...</td>\n",
       "      <td>https://img-c.udemycdn.com/user/100x100/968572...</td>\n",
       "      <td>JP</td>\n",
       "      <td>...</td>\n",
       "      <td>903744</td>\n",
       "      <td>Python for Data Science and Machine Learning B...</td>\n",
       "      <td>/course/python-for-data-science-and-machine-le...</td>\n",
       "      <td>4.622137</td>\n",
       "      <td>126984</td>\n",
       "      <td>165</td>\n",
       "      <td>2016-07-13T05:22:58Z</td>\n",
       "      <td>2020-05-03</td>\n",
       "      <td>25 total hours</td>\n",
       "      <td>https://img-c.udemycdn.com/course/750x422/9037...</td>\n",
       "    </tr>\n",
       "  </tbody>\n",
       "</table>\n",
       "<p>2 rows × 21 columns</p>\n",
       "</div>"
      ],
      "text/plain": [
       "        id _class  id_instructor title_instructor  name   display_name  \\\n",
       "0  9685726   user        9685726    Jose Portilla  Jose  Jose Portilla   \n",
       "0  9685726   user        9685726    Jose Portilla  Jose  Jose Portilla   \n",
       "\n",
       "                                  job_title  \\\n",
       "0  Head of Data Science at Pierian Training   \n",
       "0  Head of Data Science at Pierian Training   \n",
       "\n",
       "                                         image_50x50  \\\n",
       "0  https://img-c.udemycdn.com/user/50x50/9685726_...   \n",
       "0  https://img-c.udemycdn.com/user/50x50/9685726_...   \n",
       "\n",
       "                                       image_100x100 initials  ... id_courses  \\\n",
       "0  https://img-c.udemycdn.com/user/100x100/968572...       JP  ...     567828   \n",
       "0  https://img-c.udemycdn.com/user/100x100/968572...       JP  ...     903744   \n",
       "\n",
       "                                       title_courses  \\\n",
       "0  The Complete Python Bootcamp From Zero to Hero...   \n",
       "0  Python for Data Science and Machine Learning B...   \n",
       "\n",
       "                                         url_courses    rating  num_reviews  \\\n",
       "0                  /course/complete-python-bootcamp/  4.592782       452973   \n",
       "0  /course/python-for-data-science-and-machine-le...  4.622137       126984   \n",
       "\n",
       "   num_published_lectures               created last_update_date  \\\n",
       "0                     155  2015-07-29T00:12:23Z       2021-03-14   \n",
       "0                     165  2016-07-13T05:22:58Z       2020-05-03   \n",
       "\n",
       "         duration                                              image  \n",
       "0  22 total hours  https://img-c.udemycdn.com/course/750x422/5678...  \n",
       "0  25 total hours  https://img-c.udemycdn.com/course/750x422/9037...  \n",
       "\n",
       "[2 rows x 21 columns]"
      ]
     },
     "execution_count": 18,
     "metadata": {},
     "output_type": "execute_result"
    }
   ],
   "source": [
    "joined_df.head(2)"
   ]
  },
  {
   "cell_type": "code",
   "execution_count": 19,
   "id": "db3c0204",
   "metadata": {
    "execution": {
     "iopub.execute_input": "2023-02-27T08:00:22.300783Z",
     "iopub.status.busy": "2023-02-27T08:00:22.299954Z",
     "iopub.status.idle": "2023-02-27T08:00:23.588993Z",
     "shell.execute_reply": "2023-02-27T08:00:23.587783Z"
    },
    "papermill": {
     "duration": 1.301853,
     "end_time": "2023-02-27T08:00:23.591818",
     "exception": false,
     "start_time": "2023-02-27T08:00:22.289965",
     "status": "completed"
    },
    "tags": []
   },
   "outputs": [],
   "source": [
    "joined_df.to_csv('dataset.csv')"
   ]
  },
  {
   "cell_type": "code",
   "execution_count": 20,
   "id": "806b0132",
   "metadata": {
    "execution": {
     "iopub.execute_input": "2023-02-27T08:00:23.610219Z",
     "iopub.status.busy": "2023-02-27T08:00:23.609781Z",
     "iopub.status.idle": "2023-02-27T08:00:23.977974Z",
     "shell.execute_reply": "2023-02-27T08:00:23.976590Z"
    },
    "papermill": {
     "duration": 0.380456,
     "end_time": "2023-02-27T08:00:23.980755",
     "exception": false,
     "start_time": "2023-02-27T08:00:23.600299",
     "status": "completed"
    },
    "tags": []
   },
   "outputs": [
    {
     "name": "stderr",
     "output_type": "stream",
     "text": [
      "/opt/conda/lib/python3.7/site-packages/ipykernel_launcher.py:1: FutureWarning: Indexing with multiple keys (implicitly converted to a tuple of keys) will be deprecated, use a list instead.\n",
      "  \"\"\"Entry point for launching an IPython kernel.\n"
     ]
    },
    {
     "name": "stdout",
     "output_type": "stream",
     "text": [
      "Following are the most popular instructors, because their courses were popular : \n",
      "\n",
      "                                                                        rating  \\\n",
      "title_instructor title_courses                                                  \n",
      "Jose Portilla    The Complete Python Bootcamp From Zero to Hero ...  4.592782   \n",
      "Kyle Pew         Microsoft Excel - Excel from Beginner to Advanced   4.659531   \n",
      "Dr. Angela Yu    The Complete 2023 Web Development Bootcamp          4.667258   \n",
      "Colt Steele      The Web Developer Bootcamp 2023                     4.696147   \n",
      "\n",
      "                                                                     num_reviews  \n",
      "title_instructor title_courses                                                    \n",
      "Jose Portilla    The Complete Python Bootcamp From Zero to Hero ...       452973  \n",
      "Kyle Pew         Microsoft Excel - Excel from Beginner to Advanced        357442  \n",
      "Dr. Angela Yu    The Complete 2023 Web Development Bootcamp               263152  \n",
      "Colt Steele      The Web Developer Bootcamp 2023                          254711  \n"
     ]
    }
   ],
   "source": [
    "popular_instructors = joined_df.groupby(['title_instructor','title_courses'])['rating','num_reviews'].max().sort_values(by = 'num_reviews',ascending = False)\n",
    "print(\"Following are the most popular instructors, because their courses were popular : \\n\\n\",popular_instructors.iloc[:4,:])"
   ]
  },
  {
   "cell_type": "code",
   "execution_count": 21,
   "id": "c193a868",
   "metadata": {
    "execution": {
     "iopub.execute_input": "2023-02-27T08:00:23.999358Z",
     "iopub.status.busy": "2023-02-27T08:00:23.998912Z",
     "iopub.status.idle": "2023-02-27T08:00:24.087673Z",
     "shell.execute_reply": "2023-02-27T08:00:24.086453Z"
    },
    "papermill": {
     "duration": 0.100876,
     "end_time": "2023-02-27T08:00:24.090150",
     "exception": false,
     "start_time": "2023-02-27T08:00:23.989274",
     "status": "completed"
    },
    "tags": []
   },
   "outputs": [
    {
     "data": {
      "text/plain": [
       "title_instructor\n",
       "\"Mr. Casual\" Charlie DeChant    Learn Iconic Saxophone Solos With Hall & Oates...\n",
       "'Regen Ray' Milidoni            Composting With Worms Made EasyUnderstanding T...\n",
       "(International Diving           IDREO Instructor ManualDPV ExplorerDeep Explor...\n",
       "(あくしょん) Murakami Yoshiyuki      世界を変えるボンバスティックなPhotoshop講座初心者がクリエイティブな動画配信を始める...\n",
       "(株)笑い総研 大久保信克                                       【即効】笑いヨガ-ストレス解消・気分転換・免疫力アップ！-\n",
       "                                                      ...                        \n",
       "현정 고                            Microsoft 365 관리자 교육Microsoft Teams 관리자 교육Micr...\n",
       "현주 심                            정리습관이 만들어지는 아이방 1일1정리수납 위치부터 정리할 양까지 딱 정해주는 <1...\n",
       "혜은(HYEEUN) 김(KIM)               누구나 편하게 배우는 조향 클래스(You can learn Fragrance wit...\n",
       "훈상 (Hoon-Sang) 윤 (Yun)          HVAC CommissioningHVAC Lessons LearnedBasic Au...\n",
       "Ｍax Liu                                               教你如何破解主力莊家期貨當沖手法，馬上為自己創造財富！\n",
       "Name: title_courses, Length: 31991, dtype: object"
      ]
     },
     "execution_count": 21,
     "metadata": {},
     "output_type": "execute_result"
    }
   ],
   "source": [
    "joined_df.groupby('title_instructor')['title_courses'].sum()"
   ]
  },
  {
   "cell_type": "code",
   "execution_count": 22,
   "id": "fed44608",
   "metadata": {
    "execution": {
     "iopub.execute_input": "2023-02-27T08:00:24.109011Z",
     "iopub.status.busy": "2023-02-27T08:00:24.108599Z",
     "iopub.status.idle": "2023-02-27T08:00:24.142353Z",
     "shell.execute_reply": "2023-02-27T08:00:24.141088Z"
    },
    "papermill": {
     "duration": 0.045703,
     "end_time": "2023-02-27T08:00:24.144550",
     "exception": false,
     "start_time": "2023-02-27T08:00:24.098847",
     "status": "completed"
    },
    "tags": []
   },
   "outputs": [
    {
     "data": {
      "text/plain": [
       "Jose santiago Velázquez Parisi      1\n",
       "Nizar Alsankary                     1\n",
       "Narasimhan Aakur                    1\n",
       "Boltenhagen Mathilde                1\n",
       "Christopher McShane                 1\n",
       "                                 ... \n",
       "Illumeo Learning                  240\n",
       "Bluelime Learning Solutions       247\n",
       "Infinite Skills                   279\n",
       "Stone River eLearning             284\n",
       "Packt Publishing                  485\n",
       "Name: title_instructor, Length: 31991, dtype: int64"
      ]
     },
     "execution_count": 22,
     "metadata": {},
     "output_type": "execute_result"
    }
   ],
   "source": [
    "joined_df.title_instructor.value_counts().sort_values()"
   ]
  },
  {
   "cell_type": "code",
   "execution_count": 23,
   "id": "8e8e1793",
   "metadata": {
    "execution": {
     "iopub.execute_input": "2023-02-27T08:00:24.163697Z",
     "iopub.status.busy": "2023-02-27T08:00:24.163271Z",
     "iopub.status.idle": "2023-02-27T08:00:27.031299Z",
     "shell.execute_reply": "2023-02-27T08:00:27.029682Z"
    },
    "papermill": {
     "duration": 2.881413,
     "end_time": "2023-02-27T08:00:27.034716",
     "exception": false,
     "start_time": "2023-02-27T08:00:24.153303",
     "status": "completed"
    },
    "tags": []
   },
   "outputs": [
    {
     "name": "stderr",
     "output_type": "stream",
     "text": [
      "/opt/conda/lib/python3.7/site-packages/ipykernel_launcher.py:1: FutureWarning: Indexing with multiple keys (implicitly converted to a tuple of keys) will be deprecated, use a list instead.\n",
      "  \"\"\"Entry point for launching an IPython kernel.\n"
     ]
    },
    {
     "name": "stdout",
     "output_type": "stream",
     "text": [
      "Following are most popular course of a particular instructor : \n",
      "\n",
      "                                                                   title_courses  \\\n",
      "title_instructor                                                                  \n",
      "\"Mr. Casual\" Charlie DeChant  Learn Iconic Saxophone Solos With Hall & Oates...   \n",
      "'Regen Ray' Milidoni          Understanding True Soil Fertility using New NP...   \n",
      "(International Diving                                       Rebreather Explorer   \n",
      "(あくしょん) Murakami Yoshiyuki                         初心者がクリエイティブな動画配信を始めるために必要なこと   \n",
      "(株)笑い総研 大久保信克                                     【即効】笑いヨガ-ストレス解消・気分転換・免疫力アップ！-   \n",
      "...                                                                         ...   \n",
      "현정 고                          Microsoft Teams 화상회의와 세미나 진행을 위한 Meeting&Live ...   \n",
      "현주 심                                                      정리습관이 만들어지는 아이방 1일1정리   \n",
      "혜은(HYEEUN) 김(KIM)             누구나 편하게 배우는 조향 클래스(You can learn Fragrance wit...   \n",
      "훈상 (Hoon-Sang) 윤 (Yun)                                 PLC Programming for HVAC   \n",
      "Ｍax Liu                                             教你如何破解主力莊家期貨當沖手法，馬上為自己創造財富！   \n",
      "\n",
      "                                rating  num_reviews  \n",
      "title_instructor                                     \n",
      "\"Mr. Casual\" Charlie DeChant  4.571753           25  \n",
      "'Regen Ray' Milidoni          4.500000           25  \n",
      "(International Diving         4.501952           12  \n",
      "(あくしょん) Murakami Yoshiyuki    4.444041          190  \n",
      "(株)笑い総研 大久保信克                 4.553278           25  \n",
      "...                                ...          ...  \n",
      "현정 고                          5.000000           26  \n",
      "현주 심                          5.000000           36  \n",
      "혜은(HYEEUN) 김(KIM)             4.672352           47  \n",
      "훈상 (Hoon-Sang) 윤 (Yun)        4.629115           32  \n",
      "Ｍax Liu                       3.654175           12  \n",
      "\n",
      "[31991 rows x 3 columns]\n"
     ]
    }
   ],
   "source": [
    "course_by_particular_instructor = joined_df.groupby('title_instructor')['title_courses','rating','num_reviews'].max()\n",
    "print(f\"Following are most popular course of a particular instructor : \\n\\n {course_by_particular_instructor}\")"
   ]
  },
  {
   "cell_type": "code",
   "execution_count": null,
   "id": "3685d6f5",
   "metadata": {
    "papermill": {
     "duration": 0.008611,
     "end_time": "2023-02-27T08:00:27.052601",
     "exception": false,
     "start_time": "2023-02-27T08:00:27.043990",
     "status": "completed"
    },
    "tags": []
   },
   "outputs": [],
   "source": []
  }
 ],
 "metadata": {
  "kernelspec": {
   "display_name": "Python 3",
   "language": "python",
   "name": "python3"
  },
  "language_info": {
   "codemirror_mode": {
    "name": "ipython",
    "version": 3
   },
   "file_extension": ".py",
   "mimetype": "text/x-python",
   "name": "python",
   "nbconvert_exporter": "python",
   "pygments_lexer": "ipython3",
   "version": "3.7.12"
  },
  "papermill": {
   "default_parameters": {},
   "duration": 18.759331,
   "end_time": "2023-02-27T08:00:27.783644",
   "environment_variables": {},
   "exception": null,
   "input_path": "__notebook__.ipynb",
   "output_path": "__notebook__.ipynb",
   "parameters": {},
   "start_time": "2023-02-27T08:00:09.024313",
   "version": "2.3.4"
  }
 },
 "nbformat": 4,
 "nbformat_minor": 5
}
